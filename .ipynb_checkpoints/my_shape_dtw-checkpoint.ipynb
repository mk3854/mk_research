{
 "cells": [
  {
   "cell_type": "code",
   "execution_count": 1,
   "id": "403d8f34",
   "metadata": {},
   "outputs": [],
   "source": [
    "import numpy as np\n",
    "import pandas as pd\n",
    "from numpy.random import randn\n",
    "from shapedtw.shapedtw import shape_dtw\n",
    "from shapedtw.shapeDescriptors import SlopeDescriptor, PAADescriptor, DerivativeShapeDescriptor, CompoundDescriptor\n",
    "from shapedtw.dtwPlot import dtwPlot\n",
    "from shapedtw.shapedtw import DistanceReconstructor"
   ]
  },
  {
   "cell_type": "code",
   "execution_count": 3,
   "id": "f1c501a4",
   "metadata": {},
   "outputs": [],
   "source": [
    "def make_path(spl, Case):\n",
    "    slope_descriptor = SlopeDescriptor(slope_window=2)\n",
    "    paa_descriptor = PAADescriptor(piecewise_aggregation_window=3)\n",
    "    derivs_descriptor=DerivativeShapeDescriptor()\n",
    "\n",
    "    # compound_descriptor = CompoundDescriptor([slope_descriptor, derivs_descriptor],descriptors_weights=[5., 1.])\n",
    "    compound_descriptor = CompoundDescriptor([slope_descriptor, paa_descriptor, derivs_descriptor],descriptors_weights=[5., 1., 1.])\n",
    "\n",
    "    shape_dtw_results = shape_dtw(\n",
    "        x=spl.to_numpy(),\n",
    "        y=Case.to_numpy(),\n",
    "        subsequence_width=[3,4,7,8,9,10,20][2],\n",
    "        shape_descriptor=[slope_descriptor, paa_descriptor, derivs_descriptor,compound_descriptor][-1],\n",
    "        window_type=\"sakoechiba\",\n",
    "        window_args={\"window_size\": 4}, #最大ラグ\n",
    "        keep_internals=True\n",
    "    )\n",
    "    \n",
    "    dist_reconstructor = DistanceReconstructor(\n",
    "    step_pattern=\"symmetric2\",\n",
    "    ts_x=spl.to_numpy(),\n",
    "    ts_y=Case.to_numpy(),\n",
    "    ts_x_wp=shape_dtw_results.index1s,\n",
    "    ts_y_wp=shape_dtw_results.index2s,\n",
    "    dist_method=\"euclidean\"\n",
    ")\n",
    "    path = dist_reconstructor._get_indices_pairs()\n",
    "    return path\n",
    "\n",
    "\n",
    "def make_lag(path):\n",
    "    path_c =  [[] for i in range(len(Case.to_numpy()))]\n",
    "    for k in path:\n",
    "        path_c[k[1]].append(k[0])\n",
    "    dist = [np.mean(k) for k in path_c]\n",
    "\n",
    "    dist_c = [n-k for n,k in enumerate(dist)]\n",
    "    return dist_c"
   ]
  },
  {
   "cell_type": "code",
   "execution_count": null,
   "id": "f1ea9e59",
   "metadata": {},
   "outputs": [],
   "source": [
    "def plot_shape_dtw(case, spl, label, offset=0.4, lag_series=False):\n",
    "    slope_descriptor = SlopeDescriptor(slope_window=2)\n",
    "    paa_descriptor = PAADescriptor(piecewise_aggregation_window=3)\n",
    "    derivs_descriptor=DerivativeShapeDescriptor()\n",
    "    # compound_descriptor = CompoundDescriptor([slope_descriptor, derivs_descriptor],descriptors_weights=[5., 1.])\n",
    "    compound_descriptor = CompoundDescriptor([slope_descriptor, paa_descriptor, derivs_descriptor],descriptors_weights=[5., 1., 1.])\n",
    "\n",
    "    res = shape_dtw(\n",
    "        x=spl.to_numpy(),\n",
    "        y=case.to_numpy(),\n",
    "        subsequence_width=[3,4,7,8,9,10,20][2],\n",
    "        shape_descriptor=[slope_descriptor, paa_descriptor, derivs_descriptor,compound_descriptor][-1],\n",
    "        window_type=\"sakoechiba\",\n",
    "        window_args={\"window_size\": 4}, #最大ラグ\n",
    "        keep_internals=True\n",
    "    )\n",
    "\n",
    "    plt.figure(figsize=(12,6))\n",
    "    for a,b in zip(res.index1s, res.index2s):\n",
    "        plt.plot([a,b], [spl.to_numpy()[a]+offset, case.to_numpy()[b]], \"--r\")\n",
    "    plt.plot(spl.to_numpy()+offset, \"-ob\", ms=3, label=label)\n",
    "    plt.plot(case.to_numpy(), \"-ok\", ms=3, label=\"Case\")\n",
    "    plt.vlines(102,0,1+offset)\n",
    "    plt.legend()\n",
    "\n",
    "    if lag_series:\n",
    "        plt.figure(figsize=(12,6))\n",
    "        dist_c=make_lag([(i,k) for i,k in zip(res.index1s, res.index2s)])\n",
    "        dist_c=[math.ceil(i) for i in dist_c]\n",
    "        plt.plot(dist_c, \"-o\", ms=2)\n",
    "        plt.hlines(0, 0, 140, colors=\"gray\", linestyles=\"dotted\")\n",
    "        plt.text(70, min(dist_c)/2, \"下水遅れ\")\n",
    "        plt.text(70, max(dist_c)/2, \"下水早い\")"
   ]
  },
  {
   "cell_type": "code",
   "execution_count": null,
   "id": "dfb9ae5c",
   "metadata": {},
   "outputs": [],
   "source": [
    "def make_lag_df(dist):\n",
    "    return pd.get_dummies(pd.DataFrame(dist, index=data_sea.index, columns=[\"lag\"]), columns=[\"lag\"],dtype=int)"
   ]
  },
  {
   "cell_type": "code",
   "execution_count": null,
   "id": "f6c3dcca",
   "metadata": {},
   "outputs": [],
   "source": [
    "def make_spl_lag(spl, Case):\n",
    "    path = make_path(spl, Case)\n",
    "\n",
    "    dist = make_lag(path)\n",
    "\n",
    "    dist = [math.ceil(i) for i in dist]\n",
    "    lag_df = make_lag_df(dist)\n",
    "\n",
    "    col=np.arange(-4, 7, 1)[np.arange(-4, 7) < min(dist)]\n",
    "    lag_df=pd.concat([pd.DataFrame(0,index=data_sea.index, columns=[f\"lag_{i}\"for i in col], dtype=int), lag_df], axis=1)\n",
    "    col=np.arange(-4, 7, 1)[np.arange(-4, 7) > max(dist)]\n",
    "    lag_df=pd.concat([lag_df, pd.DataFrame(0,index=data_sea.index, columns=[f\"lag_{i}\"for i in col], dtype=int)], axis=1)\n",
    "\n",
    "    lag_df = lag_df.iloc[:,::-1]\n",
    "\n",
    "    return lag_df"
   ]
  },
  {
   "cell_type": "code",
   "execution_count": null,
   "id": "0757d6e2",
   "metadata": {},
   "outputs": [],
   "source": [
    "def lag_norm(lags, s2=1.75, ymin=0):\n",
    "    x=range(len(lags))\n",
    "    y=norm.pdf(x,lags.index(max(lags)), s2)+ymin\n",
    "    return y"
   ]
  },
  {
   "cell_type": "code",
   "execution_count": null,
   "id": "dc8d5740",
   "metadata": {},
   "outputs": [],
   "source": [
    "def norm_lag_df(df, s2=1.75, ymin=-0.05):\n",
    "    norm_lag = pd.DataFrame(np.array([lag_norm(n.to_list(), s2, ymin) for _,n in df.iterrows()])[:,:-5])\n",
    "    norm_lag.index=df.index\n",
    "    norm_lag.columns=df.columns[:-5]\n",
    "    return norm_lag"
   ]
  }
 ],
 "metadata": {
  "kernelspec": {
   "display_name": "Python 3 (ipykernel)",
   "language": "python",
   "name": "python3"
  },
  "language_info": {
   "codemirror_mode": {
    "name": "ipython",
    "version": 3
   },
   "file_extension": ".py",
   "mimetype": "text/x-python",
   "name": "python",
   "nbconvert_exporter": "python",
   "pygments_lexer": "ipython3",
   "version": "3.9.13"
  },
  "varInspector": {
   "cols": {
    "lenName": 16,
    "lenType": 16,
    "lenVar": 40
   },
   "kernels_config": {
    "python": {
     "delete_cmd_postfix": "",
     "delete_cmd_prefix": "del ",
     "library": "var_list.py",
     "varRefreshCmd": "print(var_dic_list())"
    },
    "r": {
     "delete_cmd_postfix": ") ",
     "delete_cmd_prefix": "rm(",
     "library": "var_list.r",
     "varRefreshCmd": "cat(var_dic_list()) "
    }
   },
   "types_to_exclude": [
    "module",
    "function",
    "builtin_function_or_method",
    "instance",
    "_Feature"
   ],
   "window_display": false
  }
 },
 "nbformat": 4,
 "nbformat_minor": 5
}
