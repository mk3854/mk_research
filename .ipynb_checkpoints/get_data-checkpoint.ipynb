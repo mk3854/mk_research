{
 "cells": [
  {
   "cell_type": "code",
   "execution_count": 8,
   "id": "e1caff71",
   "metadata": {},
   "outputs": [],
   "source": [
    "import numpy as np\n",
    "import pandas as pd\n",
    "import matplotlib.pyplot as plt\n",
    "import japanize_matplotlib\n",
    "import os\n",
    "import math\n",
    "\n",
    "from scipy.interpolate import splrep, splev\n",
    "from scipy.interpolate import BSpline, CubicSpline, make_smoothing_spline\n",
    "from scipy.interpolate import interp1d\n",
    "from scipy.stats import norm, skewnorm\n",
    "from datetime import timedelta\n",
    "\n",
    "def get_data():\n",
    "    #感染者数をインポート\n",
    "    df = pd.read_csv('data/Daily COVID-19 reported cases.csv', skiprows=0, index_col='Date', parse_dates=True)\n",
    "    dataset=df.resample(\"W\").sum()[[\"NumberCasesPerDay\"]]\n",
    "    dataset=dataset.rename(columns={\"NumberCasesPerDay\":\"Case\"})\n",
    "    #下水データをインポート\n",
    "    df_RNA = pd.read_table('data/RNAMonitoring_Public - Result Description - N1 Gene, Reported Value - N1 Gene (gc-l), Days Since.csv', skiprows=0, index_col=\"Date\", parse_dates=True, encoding=\"UTF-16\")\n",
    "    df_RNA=df_RNA[df_RNA[\"Health Area\"]==\"Greater Glasgow and Clyde\"]\n",
    "    #必要な地域だけ残す\n",
    "    df_RNA2=df_RNA[df_RNA[\"Site Name\"]==\"Dalmuir\"]\n",
    "    df_RNA2=df_RNA2[[\"Reported Value - N1 Gene (gc/l)\"]]\n",
    "    df_RNA=df_RNA[df_RNA[\"Site Name\"]==\"Shieldhall\"]\n",
    "    df_RNA=df_RNA[[\"Reported Value - N1 Gene (gc/l)\"]]\n",
    "    #下水データを週単位にする\n",
    "    data_RNA=df_RNA.resample(\"W\").mean()\n",
    "    data_RNA=data_RNA.interpolate()\n",
    "    data_RNA.columns = [\"Conc_S\"]\n",
    "\n",
    "    data_RNA2=df_RNA2.resample(\"W\").mean()\n",
    "    data_RNA2=data_RNA2.interpolate()\n",
    "    data_RNA2.columns = [\"Conc_D\"]\n",
    "    #スプライン補間のための準備\n",
    "    x = np.array((df_RNA.index-pd.to_datetime('2020-05-28'))/ timedelta(days=1))\n",
    "    y = np.array(df_RNA[\"Reported Value - N1 Gene (gc/l)\"], dtype=np.float64)\n",
    "\n",
    "    x2 = (pd.date_range(start=df_RNA.index[0],freq='d',end=df_RNA.index[-1])-pd.to_datetime('2020-05-28'))/ timedelta(days=1)\n",
    "    x2=np.array(x2)\n",
    "    x3=pd.date_range(start=df_RNA.index[0],freq='d',end=df_RNA.index[-1])\n",
    "\n",
    "    spl = make_smoothing_spline(x, y, lam=10**3) #スプライン補完の強度\n",
    "\n",
    "    spl_data=pd.DataFrame(pd.Series(spl(x2), index=pd.date_range(start=df_RNA.index[0],freq='d',end=df_RNA.index[-1])))\n",
    "    (spl_data)[spl_data<0]=0\n",
    "\n",
    "    x = np.array((df_RNA2.index-pd.to_datetime('2020-05-29'))/ timedelta(days=1))\n",
    "    y = np.array(df_RNA2[\"Reported Value - N1 Gene (gc/l)\"], dtype=np.float64)\n",
    "\n",
    "    x2 = (pd.date_range(start=df_RNA2.index[0],freq='d',end=df_RNA2.index[-1])-pd.to_datetime('2020-05-29'))/ timedelta(days=1)\n",
    "    x2=np.array(x2)\n",
    "    x3=pd.date_range(start=df_RNA2.index[0],freq='d',end=df_RNA2.index[-1])\n",
    "\n",
    "    spl = make_smoothing_spline(x, y, lam=10**3) #スプライン補完の強度\n",
    "\n",
    "    spl_data2=pd.DataFrame(pd.Series(spl(x2), index=pd.date_range(start=df_RNA2.index[0],freq='d',end=df_RNA2.index[-1])))\n",
    "    (spl_data2)[spl_data2<0]=0\n",
    "\n",
    "    #data_setRNA : 下水のコロナウイルス量\n",
    "    data_RNA[\"Conc_D\"]=data_RNA2[\"Conc_D\"]\n",
    "    data_RNA=np.log(data_RNA+1)\n",
    "\n",
    "    data_RNA[\"Case\"]=np.log(dataset[\"2020-05-31\":][\"Case\"]+1)\n",
    "    data_RNA=(data_RNA)\n",
    "\n",
    "    spl_dataset=np.log(spl_data.resample(\"W\").mean()+1)\n",
    "    data_RNA[\"spl_S\"]=spl_dataset\n",
    "\n",
    "    spl_dataset2=np.log(spl_data2.resample(\"W\").mean()+1)\n",
    "    data_RNA[\"spl_D\"]=spl_dataset2\n",
    "\n",
    "    data_RNA[\"spl_S&D\"]=(data_RNA[\"spl_S\"]+data_RNA[\"spl_D\"])/2\n",
    "\n",
    "    data_RNA=data_RNA[12:]\n",
    "    data_RNA=data_RNA[[\"Case\", \"Conc_S\", \"Conc_D\", \"spl_S\", \"spl_D\", \"spl_S&D\"]] #感染者数、ウイルス濃度S、ウイルス濃度D、ウイルス濃度(補間済み)S、ウイルス濃度(補間済み)D、ウイルス濃度平均(補間済み)\n",
    "    \n",
    "    return data_RNA\n",
    "\n",
    "\n"
   ]
  }
 ],
 "metadata": {
  "kernelspec": {
   "display_name": "Python 3 (ipykernel)",
   "language": "python",
   "name": "python3"
  },
  "language_info": {
   "codemirror_mode": {
    "name": "ipython",
    "version": 3
   },
   "file_extension": ".py",
   "mimetype": "text/x-python",
   "name": "python",
   "nbconvert_exporter": "python",
   "pygments_lexer": "ipython3",
   "version": "3.9.13"
  },
  "varInspector": {
   "cols": {
    "lenName": 16,
    "lenType": 16,
    "lenVar": 40
   },
   "kernels_config": {
    "python": {
     "delete_cmd_postfix": "",
     "delete_cmd_prefix": "del ",
     "library": "var_list.py",
     "varRefreshCmd": "print(var_dic_list())"
    },
    "r": {
     "delete_cmd_postfix": ") ",
     "delete_cmd_prefix": "rm(",
     "library": "var_list.r",
     "varRefreshCmd": "cat(var_dic_list()) "
    }
   },
   "position": {
    "height": "144.844px",
    "left": "1549px",
    "right": "20px",
    "top": "120px",
    "width": "350px"
   },
   "types_to_exclude": [
    "module",
    "function",
    "builtin_function_or_method",
    "instance",
    "_Feature"
   ],
   "window_display": false
  }
 },
 "nbformat": 4,
 "nbformat_minor": 5
}
